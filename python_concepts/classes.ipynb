{
 "cells": [
  {
   "cell_type": "markdown",
   "metadata": {},
   "source": [
    "### Using abstract class"
   ]
  },
  {
   "cell_type": "code",
   "execution_count": null,
   "metadata": {},
   "outputs": [],
   "source": [
    "from abc import ABC, abstractclassmethod\n",
    "\n",
    "class Switchable(ABC):\n",
    "    @abstractclassmethod\n",
    "    def turn_on():\n",
    "        pass\n",
    "    @abstractclassmethod\n",
    "    def turn_off():\n",
    "        pass\n",
    "    \n",
    "class LightBulb(Switchable):\n",
    "    def turn_on():\n",
    "        print(\"turning on...\")\n",
    "    def turn_off():\n",
    "        print(\"turning off...\")\n",
    "\n",
    "class Switch:\n",
    "    def __init__(self, client: Switchable):\n",
    "        self.client = client\n",
    "        self.on = False\n",
    "    \n",
    "    def press(self):\n",
    "        if self.on is True:\n",
    "            self.client.turn_off()\n",
    "            self.on = False\n",
    "        else:\n",
    "            self.client.turn_on()\n",
    "            self.on = True"
   ]
  }
 ],
 "metadata": {
  "language_info": {
   "name": "python"
  },
  "orig_nbformat": 4
 },
 "nbformat": 4,
 "nbformat_minor": 2
}

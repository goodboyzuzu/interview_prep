{
 "cells": [
  {
   "cell_type": "markdown",
   "metadata": {},
   "source": [
    "Keywords: try, except, else, finally\n",
    "- when error raised in try block, except will catch it\n",
    "- else runs when no errors are raised. \n",
    "- finally run no matter what"
   ]
  },
  {
   "cell_type": "code",
   "execution_count": 1,
   "metadata": {},
   "outputs": [
    {
     "name": "stdout",
     "output_type": "stream",
     "text": [
      "B\n",
      "C\n",
      "D\n"
     ]
    }
   ],
   "source": [
    "class B(Exception):\n",
    "   pass\n",
    "class C(B):\n",
    "   pass\n",
    "class D(C):\n",
    "   pass\n",
    " \n",
    "for cls in [B,C,D]:\n",
    "   try:\n",
    "       raise cls()\n",
    "  \n",
    "   except D:\n",
    "       print(\"D\")\n",
    "   except C:\n",
    "       print(\"C\")\n",
    "   except B:\n",
    "       print(\"B\")\n",
    "   else: #Runs when no error raised\n",
    "       pass"
   ]
  }
 ],
 "metadata": {
  "kernelspec": {
   "display_name": "Python 3.9.13 64-bit",
   "language": "python",
   "name": "python3"
  },
  "language_info": {
   "codemirror_mode": {
    "name": "ipython",
    "version": 3
   },
   "file_extension": ".py",
   "mimetype": "text/x-python",
   "name": "python",
   "nbconvert_exporter": "python",
   "pygments_lexer": "ipython3",
   "version": "3.9.13"
  },
  "orig_nbformat": 4,
  "vscode": {
   "interpreter": {
    "hash": "b0fa6594d8f4cbf19f97940f81e996739fb7646882a419484c72d19e05852a7e"
   }
  }
 },
 "nbformat": 4,
 "nbformat_minor": 2
}

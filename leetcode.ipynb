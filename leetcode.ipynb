{
 "cells": [
  {
   "cell_type": "markdown",
   "metadata": {},
   "source": [
    "### Interesting pythonic code\n",
    "#### Find shortest element in array\n",
    "shortest = min(arr, key=len)\n",
    "\n",
    "built-in: map(func, arr)\n",
    "set methods: in set, add(), clear(), copy()\n",
    "kist methods: append(), insert(index, value),  pop(index), remove(value), sort()\n",
    "dictionary methods: \n",
    "deque methods: popleft(), appendleft(), "
   ]
  },
  {
   "cell_type": "markdown",
   "metadata": {},
   "source": [
    "### Longest substring without repeating characters"
   ]
  },
  {
   "cell_type": "code",
   "execution_count": 6,
   "metadata": {},
   "outputs": [
    {
     "data": {
      "text/plain": [
       "8"
      ]
     },
     "execution_count": 6,
     "metadata": {},
     "output_type": "execute_result"
    }
   ],
   "source": [
    "#longest substring w no repeating character\n",
    "# Make a set. (dict())\n",
    "# Right ptr traverse, add the value into set.and record maximum length (for loop until right ptr reaches end)\n",
    "# x alr in set, left ptr keep moving to 1 value after x (while loop)\n",
    "def lengthOfLongestSubstring(s):\n",
    "    unique_values = set()\n",
    "    max_length, current_max = 0,0\n",
    "    left_ptr, right_ptr = 0,0\n",
    "    while right_ptr<len(s):\n",
    "        if s[right_ptr] not in unique_values:\n",
    "            unique_values.add(s[right_ptr])\n",
    "            right_ptr+=1\n",
    "            current_max+=1\n",
    "            max_length = max(current_max,max_length)\n",
    "\n",
    "        else:\n",
    "            # move left ptr till it finds s[rp], minus current_max, \n",
    "            while s[left_ptr] != s[right_ptr]:\n",
    "                unique_values.remove(s[left_ptr])\n",
    "                left_ptr +=1\n",
    "                current_max-=1\n",
    "            left_ptr+=1\n",
    "            current_max-=1\n",
    "            unique_values.remove(s[right_ptr])\n",
    "    return max_length\n",
    "\n",
    "\n",
    "lengthOfLongestSubstring(\"greattaassdfgeruh\")"
   ]
  },
  {
   "cell_type": "markdown",
   "metadata": {},
   "source": [
    "### Roman to integer"
   ]
  },
  {
   "cell_type": "code",
   "execution_count": 5,
   "metadata": {},
   "outputs": [
    {
     "data": {
      "text/plain": [
       "3"
      ]
     },
     "execution_count": 5,
     "metadata": {},
     "output_type": "execute_result"
    }
   ],
   "source": [
    "values = {\n",
    "    \"I\": 1,\n",
    "    \"V\": 5,\n",
    "    \"X\": 10,\n",
    "    \"L\": 50,\n",
    "    \"C\": 100,\n",
    "    \"D\": 500,\n",
    "    \"M\": 1000,\n",
    "}\n",
    "\n",
    "def romanToInt(s):\n",
    "    total=0\n",
    "    for x in range(0,len(s)-1):\n",
    "        if values[s[x+1]] > values[s[x]]:\n",
    "            total-=values[s[x]]\n",
    "            x+=1\n",
    "        else:\n",
    "            total +=values[s[x]]\n",
    "    total+=values[s[len(s)-1]]\n",
    "    return total\n",
    "romanToInt(\"III\")\n",
    "\n",
    "# More elegant solution\n",
    "# replace IV with IIII..."
   ]
  },
  {
   "cell_type": "code",
   "execution_count": 9,
   "metadata": {},
   "outputs": [],
   "source": [
    "def longestCommonPrefix(strs):\n",
    "    shortest = min(strs, key=len)\n",
    "    for i,ch in enumerate(shortest):\n",
    "        for other in strs:\n",
    "            if other[i] != ch:\n",
    "                return shortest[:i]\n",
    "    return shortest"
   ]
  },
  {
   "cell_type": "code",
   "execution_count": 15,
   "metadata": {},
   "outputs": [
    {
     "data": {
      "text/plain": [
       "4"
      ]
     },
     "execution_count": 15,
     "metadata": {},
     "output_type": "execute_result"
    }
   ],
   "source": [
    "def mergeTwoLists(list1,list2):\n",
    "    curr = ListNode()\n",
    "    dummy = ListNode()\n",
    "    while list1 and list2:\n",
    "        if list1.val<=list2.val:\n",
    "            curr.next = list1\n",
    "            list1\n"
   ]
  },
  {
   "cell_type": "code",
   "execution_count": 31,
   "metadata": {},
   "outputs": [
    {
     "name": "stdout",
     "output_type": "stream",
     "text": [
      "(5, 6, 6)\n"
     ]
    }
   ],
   "source": [
    "x = map(lambda x: len(x),['apple', 'banana', 'cherry'])\n",
    "print(tuple(x))"
   ]
  },
  {
   "cell_type": "code",
   "execution_count": 30,
   "metadata": {},
   "outputs": [
    {
     "name": "stdout",
     "output_type": "stream",
     "text": [
      "(('a', 1), ('b', 2), ('c', 3))\n"
     ]
    }
   ],
   "source": [
    "list1=('a','b','c')\n",
    "list2 = (1,2,3)\n",
    "x = zip(list1,list2)\n",
    "print(tuple(x))"
   ]
  },
  {
   "cell_type": "code",
   "execution_count": 35,
   "metadata": {},
   "outputs": [
    {
     "name": "stdout",
     "output_type": "stream",
     "text": [
      "fuck you\n"
     ]
    }
   ],
   "source": [
    "class Parent:\n",
    "    def __init__(self, txt):\n",
    "        self.message = txt\n",
    "    \n",
    "    def printmsg(self):\n",
    "        print(self.message)\n",
    "\n",
    "class Child(Parent):\n",
    "    def __init__(self, txt):\n",
    "        super().__init__(txt)\n",
    "\n",
    "x = Child(\"fuck you\").printmsg()"
   ]
  },
  {
   "cell_type": "code",
   "execution_count": 40,
   "metadata": {},
   "outputs": [
    {
     "data": {
      "text/plain": [
       "[[1], [1, 1], [1, 2, 1], [1, 3, 3, 1], [1, 4, 6, 4, 1]]"
      ]
     },
     "execution_count": 40,
     "metadata": {},
     "output_type": "execute_result"
    }
   ],
   "source": [
    "def generate(numRows):\n",
    "    answer =  [[1],[1,1]]\n",
    "    if numRows == 1:\n",
    "        return [[1]]\n",
    "\n",
    "    while numRows>2:\n",
    "        numRows-=1\n",
    "        last_element = answer[-1]\n",
    "        new_element = [1]\n",
    "        for idx in range(len(last_element)-1):\n",
    "            new_element.append(last_element[idx]+last_element[idx+1])\n",
    "        new_element.append(1)\n",
    "        answer.append(new_element)\n",
    "    return answer\n",
    "\n",
    "generate(5)"
   ]
  },
  {
   "cell_type": "code",
   "execution_count": 68,
   "metadata": {},
   "outputs": [
    {
     "name": "stdout",
     "output_type": "stream",
     "text": [
      "Level order traversal: [[12], [7, 1], [9, 10, 5]]\n"
     ]
    }
   ],
   "source": [
    "from collections import deque\n",
    "\n",
    "\n",
    "class TreeNode:\n",
    "  def __init__(self, val):\n",
    "    self.val = val\n",
    "    self.left, self.right = None, None\n",
    "\n",
    "\n",
    "def traverse(root):\n",
    "  result = []\n",
    "  queue = deque()\n",
    "  queue.append(root)\n",
    "  while queue:\n",
    "    length = len(queue)\n",
    "    level = []\n",
    "    for _ in range(length):\n",
    "      curr = queue.popleft()\n",
    "      level.append(curr.val)\n",
    "      if curr.left:\n",
    "        queue.append(curr.left)\n",
    "      if curr.right:\n",
    "        queue.append(curr.right)\n",
    "    result.append(level)\n",
    "  return result\n",
    "\n",
    "\n",
    "def main():\n",
    "  root = TreeNode(12)\n",
    "  root.left = TreeNode(7)\n",
    "  root.right = TreeNode(1)\n",
    "  root.left.left = TreeNode(9)\n",
    "  root.right.left = TreeNode(10)\n",
    "  root.right.right = TreeNode(5)\n",
    "  print(\"Level order traversal: \" + str(traverse(root)))\n",
    "\n",
    "\n",
    "main()\n"
   ]
  },
  {
   "cell_type": "code",
   "execution_count": 69,
   "metadata": {},
   "outputs": [
    {
     "name": "stdout",
     "output_type": "stream",
     "text": [
      "list.insert() 8313.766 ns\n",
      "deque 128.7164 ns\n",
      "\n"
     ]
    }
   ],
   "source": [
    "from time import perf_counter\n",
    "\n",
    "TIMES = 50_000\n",
    "a_list = []\n",
    "a_deque = deque()\n",
    "\n",
    "def average_time(func, times):\n",
    "    total = 0.0\n",
    "    for i in range(times):\n",
    "        start = perf_counter()\n",
    "        func(i)\n",
    "        total +=(perf_counter()-start) *1e9\n",
    "    return total/times\n",
    "list_time = average_time(lambda i: a_list.insert(0,i), TIMES)\n",
    "deque_time = average_time(lambda i: a_deque.appendleft(i), TIMES)\n",
    "\n",
    "print(f\"list.insert() {list_time:.7} ns\")\n",
    "print(f\"deque {deque_time:.7} ns\")\n",
    "print()"
   ]
  },
  {
   "cell_type": "code",
   "execution_count": 2,
   "metadata": {},
   "outputs": [
    {
     "name": "stdout",
     "output_type": "stream",
     "text": [
      "Tree Minimum Depth: 2\n",
      "Tree Minimum Depth: 3\n"
     ]
    }
   ],
   "source": [
    "from collections import deque\n",
    "\n",
    "class TreeNode:\n",
    "    def __init__(self, val):\n",
    "        self.val = val\n",
    "        self.left, self.right = None, None\n",
    "\n",
    "\n",
    "def find_minimum_depth(root):\n",
    "    queue = deque()\n",
    "    queue.append(root)\n",
    "    #case for root is None\n",
    "    depth = 0\n",
    "    while queue:\n",
    "        depth+=1\n",
    "        length = len(queue)\n",
    "        for _ in range(length):\n",
    "            curr = queue.popleft()\n",
    "            if not curr.left and not curr.right:\n",
    "                return depth\n",
    "\n",
    "            queue.append(curr.left)\n",
    "            queue.append(curr.right)\n",
    "\n",
    "    return depth\n",
    "\n",
    "\n",
    "def main():\n",
    "    root = TreeNode(12)\n",
    "    root.left = TreeNode(7)\n",
    "    root.right = TreeNode(1)\n",
    "    root.right.left = TreeNode(10)\n",
    "    root.right.right = TreeNode(5)\n",
    "    print(\"Tree Minimum Depth: \" + str(find_minimum_depth(root)))\n",
    "    root.left.left = TreeNode(9)\n",
    "    root.right.left.left = TreeNode(11)\n",
    "    print(\"Tree Minimum Depth: \" + str(find_minimum_depth(root)))\n",
    "\n",
    "\n",
    "main()\n"
   ]
  },
  {
   "cell_type": "code",
   "execution_count": 1,
   "metadata": {},
   "outputs": [
    {
     "name": "stdout",
     "output_type": "stream",
     "text": [
      "Tree has path: False\n",
      "Tree has path: False\n"
     ]
    }
   ],
   "source": [
    "class TreeNode:\n",
    "    def __init__(self, val, left=None, right=None):\n",
    "        self.val = val\n",
    "        self.left = left\n",
    "        self.right = right\n",
    "\n",
    "\n",
    "def has_path(root, sum):\n",
    "    if root is None:\n",
    "        return False\n",
    "    if root.val == sum and root.left is None and root.right is None:\n",
    "        return True\n",
    "    return has_path(root.left,sum-root.val) or has_path(root.right, sum-root.val)\n",
    "\n",
    "\n",
    "def main():\n",
    "\n",
    "    root = TreeNode(12)\n",
    "    root.left = TreeNode(7)\n",
    "    root.right = TreeNode(1)\n",
    "    root.left.left = TreeNode(9)\n",
    "    root.right.left = TreeNode(10)\n",
    "    root.right.right = TreeNode(5)\n",
    "    print(\"Tree has path: \" + str(has_path(root, 23)))\n",
    "    print(\"Tree has path: \" + str(has_path(root, 16)))\n",
    "\n",
    "\n",
    "main()\n"
   ]
  },
  {
   "cell_type": "code",
   "execution_count": null,
   "metadata": {},
   "outputs": [],
   "source": [
    "class TreeNode:\n",
    "  def __init__(self, val, left=None, right=None):\n",
    "    self.val = val\n",
    "    self.left = left\n",
    "    self.right = right\n",
    "\n",
    "\n",
    "def find_paths(root, required_sum):\n",
    "  allPaths = []\n",
    "  find_paths_recursive(root, required_sum, [], allPaths)\n",
    "  return allPaths\n",
    "\n",
    "\n",
    "def find_paths_recursive(currentNode, required_sum, currentPath, allPaths):\n",
    "  if currentNode is None:\n",
    "    return\n",
    "\n",
    "  # add the current node to the path\n",
    "  currentPath.append(currentNode.val)\n",
    "\n",
    "  # if the current node is a leaf and its value is equal to required_sum, save the current path\n",
    "  if currentNode.val == required_sum and currentNode.left is None and currentNode.right is None:\n",
    "    allPaths.append(list(currentPath))\n",
    "  else:\n",
    "    # traverse the left sub-tree\n",
    "    find_paths_recursive(currentNode.left, required_sum -\n",
    "                         currentNode.val, currentPath, allPaths)\n",
    "    # traverse the right sub-tree\n",
    "    find_paths_recursive(currentNode.right, required_sum -\n",
    "                         currentNode.val, currentPath, allPaths)\n",
    "\n",
    "  # remove the current node from the path to backtrack,\n",
    "  # we need to remove the current node while we are going up the recursive call stack.\n",
    "  del currentPath[-1]\n",
    "\n",
    "\n",
    "def main():\n",
    "\n",
    "  root = TreeNode(12)\n",
    "  root.left = TreeNode(7)\n",
    "  root.right = TreeNode(1)\n",
    "  root.left.left = TreeNode(4)\n",
    "  root.right.left = TreeNode(10)\n",
    "  root.right.right = TreeNode(5)\n",
    "  required_sum = 23\n",
    "  print(\"Tree paths with required_sum \" + str(required_sum) +\n",
    "        \": \" + str(find_paths(root, required_sum)))\n",
    "\n",
    "\n",
    "main()\n"
   ]
  },
  {
   "cell_type": "code",
   "execution_count": 4,
   "metadata": {},
   "outputs": [
    {
     "name": "stdout",
     "output_type": "stream",
     "text": [
      "(5, 4, 3, 2, 1, 0)\n"
     ]
    }
   ],
   "source": [
    "print(tuple(range(5,-1,-1)))"
   ]
  },
  {
   "cell_type": "code",
   "execution_count": 16,
   "metadata": {},
   "outputs": [
    {
     "name": "stdout",
     "output_type": "stream",
     "text": [
      "['speed', 'spede']\n",
      "[['duel', 'dule', 'deul'], ['speed', 'spede'], ['cars']]\n"
     ]
    }
   ],
   "source": [
    "def group_titles(strs):\n",
    "    res = {}\n",
    "    for s in strs:\n",
    "        count = [0]*26\n",
    "        for c in s:\n",
    "            index = ord(c) - ord('a')\n",
    "            count[index]+=1\n",
    "        key = tuple(count)\n",
    "        if key in res:\n",
    "            res[key].append(s)\n",
    "        else:\n",
    "            res[key] = [s]\n",
    "    return res.values()\n",
    "# Driver code\n",
    "\n",
    "titles = [\"duel\",\"dule\",\"speed\",\"spede\",\"deul\",\"cars\"]\n",
    "gt = list(group_titles(titles))\n",
    "query = \"spede\" \n",
    "\n",
    "# Searching for all titles\n",
    "for g in gt:\n",
    "    if query in g:\n",
    "        print(g)\n",
    "print(gt)"
   ]
  },
  {
   "cell_type": "code",
   "execution_count": 7,
   "metadata": {},
   "outputs": [
    {
     "data": {
      "text/plain": [
       "'i'"
      ]
     },
     "execution_count": 7,
     "metadata": {},
     "output_type": "execute_result"
    }
   ],
   "source": [
    "def create_linked_list():\n",
    "    \n",
    "\n",
    "a = create_linked_list([11,41,51])\n",
    "b = create_linked_list([21,23,42])\n",
    "c = create_linked_list([25,56,66,72])\n",
    "\n",
    "print(\"All movie ID's from best to worse are:\")\n",
    "display(mergeK_county([a, b, c]))"
   ]
  },
  {
   "cell_type": "code",
   "execution_count": 20,
   "metadata": {},
   "outputs": [
    {
     "data": {
      "text/plain": [
       "[3, 2, 1]"
      ]
     },
     "execution_count": 20,
     "metadata": {},
     "output_type": "execute_result"
    }
   ],
   "source": [
    "tuple(reversed([1,2,3]))"
   ]
  },
  {
   "cell_type": "code",
   "execution_count": 22,
   "metadata": {},
   "outputs": [
    {
     "name": "stdout",
     "output_type": "stream",
     "text": [
      "ab\n"
     ]
    }
   ],
   "source": [
    "print('a',end=\"\")\n",
    "print('b')"
   ]
  },
  {
   "cell_type": "code",
   "execution_count": 45,
   "metadata": {},
   "outputs": [
    {
     "data": {
      "text/plain": [
       "140306118159024"
      ]
     },
     "execution_count": 45,
     "metadata": {},
     "output_type": "execute_result"
    }
   ],
   "source": [
    "l1 = id(257)\n",
    "l2 = id(257)\n",
    "l1"
   ]
  },
  {
   "cell_type": "code",
   "execution_count": 47,
   "metadata": {},
   "outputs": [
    {
     "data": {
      "text/plain": [
       "'walrus'"
      ]
     },
     "execution_count": 47,
     "metadata": {},
     "output_type": "execute_result"
    }
   ],
   "source": [
    "(a := \"walrus\")"
   ]
  },
  {
   "cell_type": "code",
   "execution_count": null,
   "metadata": {},
   "outputs": [],
   "source": []
  },
  {
   "cell_type": "code",
   "execution_count": 57,
   "metadata": {},
   "outputs": [
    {
     "data": {
      "text/plain": [
       "16"
      ]
     },
     "execution_count": 57,
     "metadata": {},
     "output_type": "execute_result"
    }
   ],
   "source": [
    "(b, d:= 16,19)\n"
   ]
  },
  {
   "cell_type": "code",
   "execution_count": 61,
   "metadata": {},
   "outputs": [
    {
     "name": "stdout",
     "output_type": "stream",
     "text": [
      "i\n",
      "d\n",
      "i\n",
      "d\n"
     ]
    },
    {
     "data": {
      "text/plain": [
       "True"
      ]
     },
     "execution_count": 61,
     "metadata": {},
     "output_type": "execute_result"
    }
   ],
   "source": [
    "class bryan:\n",
    "    def __init__(self):\n",
    "        print(\"i\")\n",
    "    def __del__(self):\n",
    "        print(\"d\")\n",
    "id(bryan()) == id(bryan())"
   ]
  },
  {
   "cell_type": "code",
   "execution_count": 74,
   "metadata": {},
   "outputs": [
    {
     "data": {
      "text/plain": [
       "140305583711376"
      ]
     },
     "execution_count": 74,
     "metadata": {},
     "output_type": "execute_result"
    }
   ],
   "source": [
    "id(-6)"
   ]
  },
  {
   "cell_type": "code",
   "execution_count": 83,
   "metadata": {},
   "outputs": [
    {
     "name": "stdout",
     "output_type": "stream",
     "text": [
      "0 1 2 3 4 5 6 7 8 9 10 "
     ]
    }
   ],
   "source": [
    "def infinite_seq():\n",
    "    num = 0\n",
    "    while True:\n",
    "        yield num\n",
    "        num+=1\n",
    "gen = infinite_seq()\n",
    "for i in infinite_seq():\n",
    "    print(i,end = \" \")\n",
    "    if i == 10:\n",
    "        break\n",
    "        \n"
   ]
  },
  {
   "cell_type": "code",
   "execution_count": 93,
   "metadata": {},
   "outputs": [
    {
     "ename": "AttributeError",
     "evalue": "'list' object has no attribute 'dneppa'",
     "output_type": "error",
     "traceback": [
      "\u001b[0;31m---------------------------------------------------------------------------\u001b[0m",
      "\u001b[0;31mAttributeError\u001b[0m                            Traceback (most recent call last)",
      "\u001b[1;32m/Users/zuhonggoh/salaryMan/interview_prep/leetcode.ipynb Cell 29'\u001b[0m in \u001b[0;36m<cell line: 2>\u001b[0;34m()\u001b[0m\n\u001b[1;32m      <a href='vscode-notebook-cell:/Users/zuhonggoh/salaryMan/interview_prep/leetcode.ipynb#ch0000028?line=0'>1</a>\u001b[0m x\u001b[39m=\u001b[39m[\u001b[39m1\u001b[39m,\u001b[39m2\u001b[39m,\u001b[39m3\u001b[39m]\n\u001b[0;32m----> <a href='vscode-notebook-cell:/Users/zuhonggoh/salaryMan/interview_prep/leetcode.ipynb#ch0000028?line=1'>2</a>\u001b[0m x\u001b[39m.\u001b[39;49mdneppa(\u001b[39m4\u001b[39m)\n\u001b[1;32m      <a href='vscode-notebook-cell:/Users/zuhonggoh/salaryMan/interview_prep/leetcode.ipynb#ch0000028?line=2'>3</a>\u001b[0m x\n",
      "\u001b[0;31mAttributeError\u001b[0m: 'list' object has no attribute 'dneppa'"
     ]
    }
   ],
   "source": [
    "x=[1,2,3]\n",
    "x.dneppa(4)\n",
    "x\n"
   ]
  },
  {
   "cell_type": "code",
   "execution_count": 94,
   "metadata": {},
   "outputs": [
    {
     "name": "stdout",
     "output_type": "stream",
     "text": [
      "The recommended content will be for ages under: 28.5\n",
      "The recommended content will be for ages under: 30.0\n",
      "The recommended content will be for ages under: 27.5\n"
     ]
    }
   ],
   "source": [
    "import heapq\n",
    "class median_of_ages:\n",
    "\n",
    "  maxHeap = []\n",
    "  minHeap = []\n",
    "\n",
    "  def insert_age(self, num):\n",
    "    if -self.maxHeap[0] >= num:\n",
    "      heappush(self.maxHeap, -num)\n",
    "    else:\n",
    "      heappush(self.minHeap, num)\n",
    "\n",
    "    if len(self.maxHeap) > len(self.minHeap) + 1:\n",
    "      heappush(self.minHeap, -heappop(self.maxHeap))\n",
    "    elif len(self.maxHeap) < len(self.minHeap):\n",
    "      heappush(self.maxHeap, -heappop(self.minHeap))\n",
    "\n",
    "  def find_median(self):\n",
    "    if len(self.maxHeap) == len(self.minHeap):\n",
    "      # we have even number of elements, take the average of middle two elements\n",
    "      return -self.maxHeap[0] / 2.0 + self.minHeap[0] / 2.0\n",
    "\n",
    "    # because max-heap will have one more element than the min-heap\n",
    "    return -self.maxHeap[0] / 1.0\n",
    "\n",
    "\n",
    "# Driver code\n",
    "\n",
    "medianAge = median_of_ages()\n",
    "medianAge.insert_age(22)\n",
    "medianAge.insert_age(35)\n",
    "print(\"The recommended content will be for ages under: \" + str(medianAge.find_median()))\n",
    "medianAge.insert_age(30)\n",
    "print(\"The recommended content will be for ages under: \" + str(medianAge.find_median()))\n",
    "medianAge.insert_age(25)\n",
    "print(\"The recommended content will be for ages under: \" + str(medianAge.find_median()))"
   ]
  },
  {
   "cell_type": "code",
   "execution_count": null,
   "metadata": {},
   "outputs": [],
   "source": []
  }
 ],
 "metadata": {
  "kernelspec": {
   "display_name": "Python 3.9.12 ('base')",
   "language": "python",
   "name": "python3"
  },
  "language_info": {
   "codemirror_mode": {
    "name": "ipython",
    "version": 3
   },
   "file_extension": ".py",
   "mimetype": "text/x-python",
   "name": "python",
   "nbconvert_exporter": "python",
   "pygments_lexer": "ipython3",
   "version": "3.9.12"
  },
  "orig_nbformat": 4,
  "vscode": {
   "interpreter": {
    "hash": "7127fdff0cd92787604178810504d2cfec666d0a5b8d623a89b20c5d8e45c2fb"
   }
  }
 },
 "nbformat": 4,
 "nbformat_minor": 2
}
